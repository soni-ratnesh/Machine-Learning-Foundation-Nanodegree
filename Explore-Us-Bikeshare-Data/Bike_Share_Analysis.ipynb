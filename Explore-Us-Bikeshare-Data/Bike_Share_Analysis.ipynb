{
 "cells": [
  {
   "cell_type": "markdown",
   "metadata": {},
   "source": [
    "# 2016 US Bike Share Activity Snapshot\n",
    "\n",
    "## Table of Contents\n",
    "- [Introduction](#intro)\n",
    "- [Posing Questions](#pose_questions)\n",
    "- [Data Collection and Wrangling](#wrangling)\n",
    "  - [Condensing the Trip Data](#condensing)\n",
    "- [Exploratory Data Analysis](#eda)\n",
    "  - [Statistics](#statistics)\n",
    "  - [Visualizations](#visualizations)\n",
    "- [Performing Your Own Analysis](#eda_continued)\n",
    "- [Conclusions](#conclusions)\n",
    "\n",
    "<a id='intro'></a>\n",
    "## Introduction\n",
    "\n",
    "\n",
    "Over the past decade, bicycle-sharing systems have been growing in number and popularity in cities across the world. Bicycle-sharing systems allow users to rent bicycles for short trips, typically 30 minutes or less. Thanks to the rise in information technologies, it is easy for a user of the system to access a dock within the system to unlock or return bicycles. These technologies also provide a wealth of data that can be used to explore how these bike-sharing systems are used.\n",
    "\n",
    "In this project, you will perform an exploratory analysis on data provided by [Motivate](https://www.motivateco.com/), a bike-share system provider for many major cities in the United States. You will compare the system usage between three large cities: New York City, Chicago, and Washington, DC. You will also see if there are any differences within each system for those users that are registered, regular users and those users that are short-term, casual users."
   ]
  },
  {
   "cell_type": "markdown",
   "metadata": {},
   "source": [
    "<a id='pose_questions'></a>\n",
    "## Posing Questions\n",
    "\n",
    "\n",
    "**Question 1**: Write at least two questions related to bike sharing that you think could be answered by data.\n",
    "\n",
    "**Answer**: what is the most commomn use time?\n",
    "            what is the most common month and what type of people use most?\n"
   ]
  },
  {
   "cell_type": "markdown",
   "metadata": {},
   "source": [
    "<a id='wrangling'></a>\n",
    "## Data Collection and Wrangling\n",
    "\n",
    "Now it's time to collect and explore our data. In this project, we will focus on the record of individual trips taken in 2016 from our selected cities: New York City, Chicago, and Washington, DC. Each of these cities has a page where we can freely download the trip data.:\n",
    "\n",
    "- New York City (Citi Bike): [Link](https://www.citibikenyc.com/system-data)\n",
    "- Chicago (Divvy): [Link](https://www.divvybikes.com/system-data)\n",
    "- Washington, DC (Capital Bikeshare): [Link](https://www.capitalbikeshare.com/system-data)\n",
    "\n",
    "If you visit these pages, you will notice that each city has a different way of delivering its data. Chicago updates with new data twice a year, Washington DC is quarterly, and New York City is monthly. **However, you do not need to download the data yourself.** The data has already been collected for you in the `/data/` folder of the project files. While the original data for 2016 is spread among multiple files for each city, the files in the `/data/` folder collect all of the trip data for the year into one file per city. Some data wrangling of inconsistencies in timestamp format within each city has already been performed for you. In addition, a random 2% sample of the original data is taken to make the exploration more manageable. \n",
    "\n",
    "**Question 2**: However, there is still a lot of data for us to investigate, so it's a good idea to start off by looking at one entry from each of the cities we're going to analyze. Run the first code cell below to load some packages and functions that you'll be using in your analysis. Then, complete the second code cell to print out the first trip recorded from each of the cities (the second line of each data file).\n",
    "\n"
   ]
  },
  {
   "cell_type": "code",
   "execution_count": 1,
   "metadata": {},
   "outputs": [],
   "source": [
    "## import all necessary packages and functions.\n",
    "import csv # read and write csv files\n",
    "from datetime import datetime # operations to parse dates\n",
    "from pprint import pprint # use to print data structures like dictionaries in\n",
    "import pandas as pd     # a nicer way than the base print function."
   ]
  },
  {
   "cell_type": "code",
   "execution_count": 2,
   "metadata": {},
   "outputs": [
    {
     "name": "stdout",
     "output_type": "stream",
     "text": [
      "\n",
      "City: NYC\n",
      "first trip details\n",
      "OrderedDict([('tripduration', '839'),\n",
      "             ('starttime', '1/1/2016 00:09:55'),\n",
      "             ('stoptime', '1/1/2016 00:23:54'),\n",
      "             ('start station id', '532'),\n",
      "             ('start station name', 'S 5 Pl & S 4 St'),\n",
      "             ('start station latitude', '40.710451'),\n",
      "             ('start station longitude', '-73.960876'),\n",
      "             ('end station id', '401'),\n",
      "             ('end station name', 'Allen St & Rivington St'),\n",
      "             ('end station latitude', '40.72019576'),\n",
      "             ('end station longitude', '-73.98997825'),\n",
      "             ('bikeid', '17109'),\n",
      "             ('usertype', 'Customer'),\n",
      "             ('birth year', ''),\n",
      "             ('gender', '0')])\n",
      "<class 'collections.OrderedDict'>\n",
      "\n",
      "City: Chicago\n",
      "first trip details\n",
      "OrderedDict([('trip_id', '9080545'),\n",
      "             ('starttime', '3/31/2016 23:30'),\n",
      "             ('stoptime', '3/31/2016 23:46'),\n",
      "             ('bikeid', '2295'),\n",
      "             ('tripduration', '926'),\n",
      "             ('from_station_id', '156'),\n",
      "             ('from_station_name', 'Clark St & Wellington Ave'),\n",
      "             ('to_station_id', '166'),\n",
      "             ('to_station_name', 'Ashland Ave & Wrightwood Ave'),\n",
      "             ('usertype', 'Subscriber'),\n",
      "             ('gender', 'Male'),\n",
      "             ('birthyear', '1990')])\n",
      "<class 'collections.OrderedDict'>\n",
      "\n",
      "City: Washington\n",
      "first trip details\n",
      "OrderedDict([('Duration (ms)', '427387'),\n",
      "             ('Start date', '3/31/2016 22:57'),\n",
      "             ('End date', '3/31/2016 23:04'),\n",
      "             ('Start station number', '31602'),\n",
      "             ('Start station', 'Park Rd & Holmead Pl NW'),\n",
      "             ('End station number', '31207'),\n",
      "             ('End station', 'Georgia Ave and Fairmont St NW'),\n",
      "             ('Bike number', 'W20842'),\n",
      "             ('Member Type', 'Registered')])\n",
      "<class 'collections.OrderedDict'>\n"
     ]
    }
   ],
   "source": [
    "def print_first_point(filename):\n",
    "    \"\"\"\n",
    "    This function prints and returns the first data point (second row) from\n",
    "    a csv file that includes a header row.\n",
    "    \"\"\"\n",
    "    # print city name for reference\n",
    "    city = filename.split('-')[0].split('/')[-1]\n",
    "    print('\\nCity: {}'.format(city))\n",
    "    \n",
    "    with open(filename, 'r') as f_in:\n",
    "        \n",
    "        trip_reader =csv.DictReader(f_in)\n",
    "        first_trip =trip_reader.__next__()        \n",
    "        print(\"first trip details\")\n",
    "        pprint(first_trip)\n",
    "        print(type(first_trip))\n",
    "        \n",
    "    # output city name and first trip for later testing\n",
    "    return (city, first_trip)\n",
    "\n",
    "# list of files for each city\n",
    "data_files = ['./data/NYC-CitiBike-2016.csv',\n",
    "              './data/Chicago-Divvy-2016.csv',\n",
    "              './data/Washington-CapitalBikeshare-2016.csv',]\n",
    "\n",
    "# print the first trip from each file, store in dictionary\n",
    "example_trips = {}\n",
    "for data_file in data_files:\n",
    "    city, first_trip = print_first_point(data_file)\n",
    "    example_trips[city] = first_trip"
   ]
  },
  {
   "cell_type": "markdown",
   "metadata": {},
   "source": [
    "If everything has been filled out correctly, you should see below the printout of each city name (which has been parsed from the data file name) that the first trip has been parsed in the form of a dictionary. When you set up a `DictReader` object, the first row of the data file is normally interpreted as column names. Every other row in the data file will use those column names as keys, as a dictionary is generated for each row.\n",
    "\n",
    "This will be useful since we can refer to quantities by an easily-understandable label instead of just a numeric index. For example, if we have a trip stored in the variable `row`, then we would rather get the trip duration from `row['duration']` instead of `row[0]`.\n",
    "\n",
    "<a id='condensing'></a>\n",
    "### Condensing the Trip Data\n",
    "\n",
    "It should also be observable from the above printout that each city provides different information. Even where the information is the same, the column names and formats are sometimes different. To make things as simple as possible when we get to the actual exploration, we should trim and clean the data. Cleaning the data makes sure that the data formats across the cities are consistent, while trimming focuses only on the parts of the data we are most interested in to make the exploration easier to work with.\n",
    "\n",
    "You will generate new data files with five values of interest for each trip: trip duration, starting month, starting hour, day of the week, and user type. Each of these may require additional wrangling depending on the city:\n",
    "\n",
    "- **Duration**: This has been given to us in seconds (New York, Chicago) or milliseconds (Washington). A more natural unit of analysis will be if all the trip durations are given in terms of minutes.\n",
    "- **Month**, **Hour**, **Day of Week**: Ridership volume is likely to change based on the season, time of day, and whether it is a weekday or weekend. Use the start time of the trip to obtain these values. The New York City data includes the seconds in their timestamps, while Washington and Chicago do not. The [`datetime`](https://docs.python.org/3/library/datetime.html) package will be very useful here to make the needed conversions.\n",
    "- **User Type**: It is possible that users who are subscribed to a bike-share system will have different patterns of use compared to users who only have temporary passes. Washington divides its users into two types: 'Registered' for users with annual, monthly, and other longer-term subscriptions, and 'Casual', for users with 24-hour, 3-day, and other short-term passes. The New York and Chicago data uses 'Subscriber' and 'Customer' for these groups, respectively. For consistency, you will convert the Washington labels to match the other two.\n",
    "\n",
    "\n",
    "**Question 3a**: Complete the helper functions in the code cells below to address each of the cleaning tasks described above."
   ]
  },
  {
   "cell_type": "code",
   "execution_count": 3,
   "metadata": {},
   "outputs": [],
   "source": [
    "import datetime\n",
    "\n",
    "def duration_in_mins(datum, city):\n",
    "    \"\"\"\n",
    "    Takes as input a dictionary containing info about a single trip (datum) and\n",
    "    its origin city (city) and returns the trip duration in units of minutes.\n",
    "    \n",
    "    Remember that Washington is in terms of milliseconds while Chicago and NYC\n",
    "    are in terms of seconds. \n",
    "    \n",
    "    HINT: The csv module reads in all of the data as strings, including numeric\n",
    "    values. You will need a function to convert the strings into an appropriate\n",
    "    numeric type when making your transformations.\n",
    "    see https://docs.python.org/3/library/functions.html\n",
    "    \"\"\"\n",
    "    \n",
    "    if city==\"Washington\":\n",
    "        duration_mili=int(datum[\"Duration (ms)\"])\n",
    "        duration=datetime.timedelta(milliseconds=duration_mili)\n",
    "        duration_min=duration.total_seconds()/60\n",
    "        return duration_min\n",
    "    \n",
    "    else:\n",
    "        duration_sec=int(datum[\"tripduration\"])\n",
    "        duration_min=duration_sec/60\n",
    "        return duration_min\n",
    "    \n",
    "    \n",
    "\n",
    "\n",
    "# Some tests to check that your code works. There should be no output if all of\n",
    "# the assertions pass. The `example_trips` dictionary was obtained from when\n",
    "# you printed the first trip from each of the original data files.\n",
    "tests = {'NYC': 13.9833,\n",
    "         'Chicago': 15.4333,\n",
    "         'Washington': 7.1231}\n",
    "\n",
    "for city in tests:\n",
    "    assert abs(duration_in_mins(example_trips[city], city) - tests[city]) < .001"
   ]
  },
  {
   "cell_type": "code",
   "execution_count": 4,
   "metadata": {},
   "outputs": [],
   "source": [
    "def time_of_trip(datum, city):\n",
    "    \"\"\"\n",
    "    Takes as input a dictionary containing info about a single trip (datum) and\n",
    "    its origin city (city) and returns the month, hour, and day of the week in\n",
    "    which the trip was made.\n",
    "    \n",
    "    Remember that NYC includes seconds, while Washington and Chicago do not.\n",
    "    \n",
    "    HINT: You should use the datetime module to parse the original date\n",
    "    strings into a format that is useful for extracting the desired information.\n",
    "    see ze\n",
    "    \"\"\"\n",
    "    \n",
    "    if city==\"Washington\":\n",
    "        \n",
    "        date=datum[\"Start date\"].split()[0]\n",
    "        month,day,year=(int(x) for x in date.split('/'))    \n",
    "        day_of_week = datetime.date(year, month, day).strftime(\"%A\")\n",
    "        hour=int(datum[\"Start date\"].split()[1].split(\":\")[0])\n",
    "        \n",
    "    elif city==\"NYC\":\n",
    "        \n",
    "        date=datum[\"starttime\"].split()[0]\n",
    "        month,day,year=(int(x) for x in date.split('/'))    \n",
    "        day_of_week = datetime.date(year, month, day).strftime(\"%A\")\n",
    "        hour=int(datum[\"starttime\"].split()[1].split(\":\")[0])\n",
    "        \n",
    "    else:\n",
    "        \n",
    "        date=datum[\"starttime\"].split()[0]\n",
    "        month,day,year=(int(x) for x in date.split('/'))    \n",
    "        day_of_week = datetime.date(year, month, day).strftime(\"%A\")\n",
    "        hour=int(datum[\"starttime\"].split()[1].split(\":\")[0])\n",
    "        \n",
    "      \n",
    "    \n",
    "    return (month, hour, day_of_week)\n",
    "\n",
    "\n",
    "# Some tests to check that your code works. There should be no output if all of\n",
    "# the assertions pass. The `example_trips` dictionary was obtained from when\n",
    "# you printed the first trip from each of the original data files.\n",
    "tests = {'NYC': (1, 0, 'Friday'),\n",
    "         'Chicago': (3, 23, 'Thursday'),\n",
    "         'Washington': (3, 22, 'Thursday')}\n",
    "\n",
    "for city in tests:\n",
    "    assert time_of_trip(example_trips[city], city) == tests[city]"
   ]
  },
  {
   "cell_type": "code",
   "execution_count": 5,
   "metadata": {},
   "outputs": [],
   "source": [
    "def type_of_user(datum, city):\n",
    "    \"\"\"\n",
    "    Takes as input a dictionary containing info about a single trip (datum) and\n",
    "    its origin city (city) and returns the type of system user that made the\n",
    "    trip.\n",
    "    \n",
    "    Remember that Washington has different category names compared to Chicago\n",
    "    and NYC. \n",
    "    \"\"\"\n",
    "    \n",
    "    if city ==\"Washington\":\n",
    "        if datum[\"Member Type\"]==\"Registered\":\n",
    "            user_type=\"Subscriber\"\n",
    "        else:\n",
    "            user_type=\"Customer\"\n",
    "        \n",
    "    else:\n",
    "        user_type=datum[\"usertype\"]\n",
    "    \n",
    "   \n",
    "    return user_type\n",
    "\n",
    "\n",
    "# Some tests to check that your code works. There should be no output if all of\n",
    "# the assertions pass. The `example_trips` dictionary was obtained from when\n",
    "# you printed the first trip from each of the original data files.\n",
    "tests = {'NYC': 'Customer',\n",
    "         'Chicago': 'Subscriber',\n",
    "         'Washington': 'Subscriber'}\n",
    "\n",
    "for city in tests:\n",
    "    assert type_of_user(example_trips[city], city) == tests[city]"
   ]
  },
  {
   "cell_type": "markdown",
   "metadata": {},
   "source": [
    "**Question 3b**: Now, use the helper functions you wrote above to create a condensed data file for each city consisting only of the data fields indicated above. In the `/examples/` folder, you will see an example datafile from the [Bay Area Bike Share](http://www.bayareabikeshare.com/open-data) before and after conversion. Make sure that your output is formatted to be consistent with the example file."
   ]
  },
  {
   "cell_type": "code",
   "execution_count": 6,
   "metadata": {},
   "outputs": [],
   "source": [
    "def condense_data(in_file, out_file, city):\n",
    "    \"\"\"\n",
    "    This function takes full data from the specified input file\n",
    "    and writes the condensed data to a specified output file. The city\n",
    "    argument determines how the input file will be parsed.\n",
    "    \n",
    "    HINT: See the cell below to see how the arguments are structured!\n",
    "    \"\"\"\n",
    "    \n",
    "    with open(out_file, 'w') as f_out, open(in_file, 'r') as f_in:\n",
    "        \n",
    "        out_colnames = ['duration', 'month', 'hour', 'day_of_week', 'user_type']        \n",
    "        trip_writer = csv.DictWriter(f_out, fieldnames = out_colnames)\n",
    "        trip_writer.writeheader()\n",
    "        \n",
    "        trip_reader = csv.DictReader(f_in)\n",
    "\n",
    "        \n",
    "        for row in trip_reader:\n",
    "            # set up a dictionary to hold the values for the cleaned and trimmed\n",
    "            # data point\n",
    "            new_point = {}\n",
    "\n",
    "            new_point[out_colnames[0]]=duration_in_mins(row , city)\n",
    "            new_point[out_colnames[1]],new_point[out_colnames[2]],new_point[out_colnames[3]]=time_of_trip(row, city)\n",
    "            new_point[out_colnames[4]]=type_of_user(row, city)\n",
    "            \n",
    "            trip_writer.writerow(new_point)\n",
    "            "
   ]
  },
  {
   "cell_type": "code",
   "execution_count": 7,
   "metadata": {},
   "outputs": [
    {
     "name": "stdout",
     "output_type": "stream",
     "text": [
      "\n",
      "City: Washington\n",
      "first trip details\n",
      "OrderedDict([('duration', '7.123116666666666'),\n",
      "             ('month', '3'),\n",
      "             ('hour', '22'),\n",
      "             ('day_of_week', 'Thursday'),\n",
      "             ('user_type', 'Subscriber')])\n",
      "<class 'collections.OrderedDict'>\n",
      "\n",
      "City: Chicago\n",
      "first trip details\n",
      "OrderedDict([('duration', '15.433333333333334'),\n",
      "             ('month', '3'),\n",
      "             ('hour', '23'),\n",
      "             ('day_of_week', 'Thursday'),\n",
      "             ('user_type', 'Subscriber')])\n",
      "<class 'collections.OrderedDict'>\n",
      "\n",
      "City: NYC\n",
      "first trip details\n",
      "OrderedDict([('duration', '13.983333333333333'),\n",
      "             ('month', '1'),\n",
      "             ('hour', '0'),\n",
      "             ('day_of_week', 'Friday'),\n",
      "             ('user_type', 'Customer')])\n",
      "<class 'collections.OrderedDict'>\n"
     ]
    }
   ],
   "source": [
    "# Run this cell to check your work\n",
    "city_info = {'Washington': {'in_file': './data/Washington-CapitalBikeshare-2016.csv',\n",
    "                            'out_file': './data/Washington-2016-Summary.csv'},\n",
    "             'Chicago': {'in_file': './data/Chicago-Divvy-2016.csv',\n",
    "                         'out_file': './data/Chicago-2016-Summary.csv'},\n",
    "             'NYC': {'in_file': './data/NYC-CitiBike-2016.csv',\n",
    "                     'out_file': './data/NYC-2016-Summary.csv'}}\n",
    "\n",
    "for city, filenames in city_info.items():\n",
    "    condense_data(filenames['in_file'], filenames['out_file'], city)\n",
    "    print_first_point(filenames['out_file'])"
   ]
  },
  {
   "cell_type": "markdown",
   "metadata": {},
   "source": [
    "\n",
    "<a id='eda'></a>\n",
    "## Exploratory Data Analysis\n",
    "\n",
    "Now that you have the data collected and wrangled, you're ready to start exploring the data. In this section you will write some code to compute descriptive statistics from the data. You will also be introduced to the `matplotlib` library to create some basic histograms of the data.\n",
    "\n",
    "<a id='statistics'></a>\n",
    "### Statistics\n",
    "\n",
    "First, let's compute some basic counts. The first cell below contains a function that uses the csv module to iterate through a provided data file, returning the number of trips made by subscribers and customers. The second cell runs this function on the example Bay Area data in the `/examples/` folder. Modify the cells to answer the question below.\n",
    "\n",
    "**Question 4a**: Which city has the highest number of trips? Which city has the highest proportion of trips made by subscribers? Which city has the highest proportion of trips made by short-term customers?\n",
    "\n",
    "**Answer**:NYC has the max number of trips, the number is 276798 NYC has the highest proportion of trips made by subscribers, the pecentage is 88.83% Chicago has the highest proportion of trips made by customer, the pecentage is 23.77%"
   ]
  },
  {
   "cell_type": "code",
   "execution_count": 8,
   "metadata": {},
   "outputs": [],
   "source": [
    "def number_of_trips(filename):\n",
    "    \"\"\"\n",
    "    This function reads in a file with trip data and reports the number of\n",
    "    trips made by subscribers, customers, and total overall.\n",
    "    \"\"\"\n",
    "    with open(filename, 'r') as f_in:\n",
    "        # set up csv reader object\n",
    "        reader = csv.DictReader(f_in)\n",
    "        \n",
    "        # initialize count variables\n",
    "        n_subscribers = 0\n",
    "        n_customers = 0\n",
    "        total_subs_ride=0\n",
    "        total_cust_ride=0\n",
    "        \n",
    "        # tally up ride types\n",
    "        for row in reader:\n",
    "            if row['user_type'] == 'Subscriber':\n",
    "                n_subscribers += 1\n",
    "                total_subs_ride += float(row['duration'])\n",
    "            else:\n",
    "                n_customers += 1\n",
    "                total_cust_ride += float(row['duration'])\n",
    "        \n",
    "        # compute total number of rides\n",
    "        n_total = n_subscribers + n_customers\n",
    "        pct_subscribers = n_subscribers/n_total\n",
    "        pct_customers = n_customers/n_total\n",
    "        avg_subs_ride = total_subs_ride/n_subscribers\n",
    "        avg_cust_ride = total_cust_ride/n_customers\n",
    "        \n",
    "        # return tallies as a tuple\n",
    "        return(n_subscribers, n_customers, n_total,pct_subscribers,pct_customers,avg_subs_ride,avg_cust_ride)"
   ]
  },
  {
   "cell_type": "code",
   "execution_count": 9,
   "metadata": {},
   "outputs": [
    {
     "name": "stdout",
     "output_type": "stream",
     "text": [
      "Washington\n",
      "Total Number of Trips: 66326\n",
      "proportion of trips made by subscribers: 0.7802822422579381\n",
      "proportion of trips made by short-term customers: 0.21971775774206193\n",
      "\n",
      "Chicago\n",
      "Total Number of Trips: 72131\n",
      "proportion of trips made by subscribers: 0.7622520136973008\n",
      "proportion of trips made by short-term customers: 0.23774798630269925\n",
      "\n",
      "NYC\n",
      "Total Number of Trips: 276798\n",
      "proportion of trips made by subscribers: 0.8883590199351151\n",
      "proportion of trips made by short-term customers: 0.11164098006488486\n",
      "\n"
     ]
    }
   ],
   "source": [
    "data_file = ['./data/Washington-2016-Summary.csv','./data/Chicago-2016-Summary.csv','./data/NYC-2016-Summary.csv']\n",
    "for path in data_file:\n",
    "    n_subscribers, n_customers, n_total =list(number_of_trips(path))[0],list(number_of_trips(path))[1],list(number_of_trips(path))[2]\n",
    "    print(path.split(\"/\")[2].split(\"-\")[0])\n",
    "    print(\"Total Number of Trips:\",n_total)\n",
    "    print(\"proportion of trips made by subscribers:\",n_subscribers/n_total)\n",
    "    print(\"proportion of trips made by short-term customers:\",n_customers/n_total)\n",
    "    print()\n"
   ]
  },
  {
   "cell_type": "markdown",
   "metadata": {},
   "source": [
    "\n",
    "Now, you will write your own code to continue investigating properties of the data.\n",
    "\n",
    "**Question 4b**: Bike-share systems are designed for riders to take short trips. Most of the time, users are allowed to take trips of 30 minutes or less with no additional charges, with overage charges made for trips of longer than that duration. What is the average trip length for each city? What proportion of rides made in each city are longer than 30 minutes?\n",
    "\n",
    "**Answer**: The average trip length for Washington is 18.93(min),the proportion of rides made are longer than 30 minutes is 10.84% \n",
    "The average trip length for NYC is 15.81(min),the proportion of rides made are longer than 30 minutes is 7.30% \n",
    "The average trip length for Chicago is 16.56(min),the proportion of rides made are longer than 30 minutes is 8.33% "
   ]
  },
  {
   "cell_type": "code",
   "execution_count": 10,
   "metadata": {
    "scrolled": true
   },
   "outputs": [
    {
     "name": "stdout",
     "output_type": "stream",
     "text": [
      "The average trip length for Washington is 18.93(min) the proportion of rides made are longer than 30 minutes is 10.84%\n",
      "The average trip length for NYC is 15.81(min) the proportion of rides made are longer than 30 minutes is 7.30%\n",
      "The average trip length for Chicago is 16.56(min) the proportion of rides made are longer than 30 minutes is 8.33%\n"
     ]
    }
   ],
   "source": [
    "\n",
    "def length_of_trips(filename):\n",
    "    \"\"\"\n",
    "    Reads in a file with trip data and return the number of\n",
    "    trips made by subscribers, customers, and total overall.\n",
    "    \"\"\"\n",
    "    with open(filename, 'r') as f_in:\n",
    "        \n",
    "        reader = csv.DictReader(f_in) # set up csv reader object\n",
    "        \n",
    "        n_shortride = 0\n",
    "        n_longride= 0\n",
    "       \n",
    "        len_total=0\n",
    "        \n",
    "        \n",
    "        for row in reader:\n",
    "            if float(row['duration']) <= 30:\n",
    "                n_shortride += 1\n",
    "                \n",
    "            else:\n",
    "                n_longride += 1\n",
    "                \n",
    "            len_total+=float(row['duration'])\n",
    "        # compute total number of rides\n",
    "        n_total = n_shortride + n_longride \n",
    "        \n",
    "        \n",
    "        avg_len = len_total/n_total\n",
    "        pcr_longride = n_longride/n_total\n",
    "        pcr_shortride = n_shortride/n_total\n",
    "        \n",
    "        # return tallies as a tuple\n",
    "        return(len_total, n_total,avg_len,pcr_longride,pcr_shortride)\n",
    "\n",
    "\n",
    "data_file = ['./data/Washington-2016-Summary.csv','./data/NYC-2016-Summary.csv','./data/Chicago-2016-Summary.csv']\n",
    "for path in data_file:\n",
    "    \n",
    "    len_total, n_total,avg_len,pcr_longride,pcr_shortride=length_of_trips(path)\n",
    "    city_name=path.split(\"/\")[2].split(\"-\")[0]\n",
    "    print(\"The average trip length for {} is {:.2f}(min) the proportion of rides made are longer than 30 minutes is {:.2f}%\".format(city_name,avg_len,pcr_longride*100))\n",
    "    \n",
    "    "
   ]
  },
  {
   "cell_type": "markdown",
   "metadata": {},
   "source": [
    "**Question 4c**: Dig deeper into the question of trip duration based on ridership. Choose one city. Within that city, which type of user takes longer rides on average: Subscribers or Customers?\n",
    "\n",
    "**Answer**:The customer's in Washington takes longer rides on average.The average Subscriber trip duration is 13.68 (min), The average customer trip duration is 32.78 (min)"
   ]
  },
  {
   "cell_type": "code",
   "execution_count": 11,
   "metadata": {},
   "outputs": [
    {
     "name": "stdout",
     "output_type": "stream",
     "text": [
      "The customer's in Washington takes longer rides on average.The average Subscriber trip duration is 13.68 (min), The average customer trip duration is 32.78 (min)\n"
     ]
    }
   ],
   "source": [
    "##trip=number_of_trips(data_file)\n",
    "if number_of_trips(data_file)[5] > number_of_trips(data_file)[6]:\n",
    "    print('The subscriber\\'s in Washington takes longer rides on average. The average Subscriber trip duration is {:.2f} (min),The average customer trip duration is {:.2f} (min)'.format(number_of_trips(data_file)[5],number_of_trips(data_file)[6]))\n",
    "else:\n",
    "    print('The customer\\'s in Washington takes longer rides on average.The average Subscriber trip duration is {:.2f} (min), The average customer trip duration is {:.2f} (min)'.format(number_of_trips(data_file)[5],number_of_trips(data_file)[6]))\n",
    "\n"
   ]
  },
  {
   "cell_type": "markdown",
   "metadata": {},
   "source": [
    "<a id='visualizations'></a>\n",
    "### Visualizations\n",
    "\n",
    "The last set of values that you computed should have pulled up an interesting result. While the mean trip time for Subscribers is well under 30 minutes, the mean trip time for Customers is actually _above_ 30 minutes! It will be interesting for us to look at how the trip times are distributed. In order to do this, a new library will be introduced here, `matplotlib`. Run the cell below to load the library and to generate an example plot."
   ]
  },
  {
   "cell_type": "code",
   "execution_count": 12,
   "metadata": {},
   "outputs": [
    {
     "data": {
      "image/png": "[encoded data removed]",
      "text/plain": [
       "<matplotlib.figure.Figure at 0x7f8712bfe5f8>"
      ]
     },
     "metadata": {},
     "output_type": "display_data"
    }
   ],
   "source": [
    "# load library\n",
    "import matplotlib.pyplot as plt\n",
    "\n",
    "%matplotlib inline \n",
    "\n",
    "# example histogram, data taken from bay area sample\n",
    "data = [ 7.65,  8.92,  7.42,  5.50, 16.17,  4.20,  8.98,  9.62, 11.48, 14.33,\n",
    "        19.02, 21.53,  3.90,  7.97,  2.62,  2.67,  3.08, 14.40, 12.90,  7.83,\n",
    "        25.12,  8.30,  4.93, 12.43, 10.60,  6.17, 10.88,  4.78, 15.15,  3.53,\n",
    "         9.43, 13.32, 11.72,  9.85,  5.22, 15.10,  3.95,  3.17,  8.78,  1.88,\n",
    "         4.55, 12.68, 12.38,  9.78,  7.63,  6.45, 17.38, 11.90, 11.52,  8.63,]\n",
    "plt.hist(data)\n",
    "plt.title('Distribution of Trip Durations')\n",
    "plt.xlabel('Duration (m)')\n",
    "plt.show()"
   ]
  },
  {
   "cell_type": "markdown",
   "metadata": {},
   "source": [
    "In the above cell, we collected fifty trip times in a list, and passed this list as the first argument to the `.hist()` function. This function performs the computations and creates plotting objects for generating a histogram, but the plot is actually not rendered until the `.show()` function is executed. The `.title()` and `.xlabel()` functions provide some labeling for plot context.\n",
    "\n",
    "You will now use these functions to create a histogram of the trip times for the city you selected in question 4c. Don't separate the Subscribers and Customers for now: just collect all of the trip times and plot them."
   ]
  },
  {
   "cell_type": "code",
   "execution_count": 13,
   "metadata": {
    "scrolled": true
   },
   "outputs": [
    {
     "data": {
      "image/png": "[encoded data removed]",
      "text/plain": [
       "<matplotlib.figure.Figure at 0x7f870e59b5f8>"
      ]
     },
     "metadata": {},
     "output_type": "display_data"
    }
   ],
   "source": [
    "\n",
    "def list_trips(filename):\n",
    "    \"\"\"\n",
    "    Reads in a file with trip data and Return the trip durations.\n",
    "    \"\"\"\n",
    "    tripdata=[]\n",
    "    with open(filename, 'r') as f_in:\n",
    "        \n",
    "        reader = csv.DictReader(f_in)\n",
    "        \n",
    "       \n",
    "        for row in reader:\n",
    "            tripdata.append(float(row['duration']))\n",
    "        return tripdata\n",
    "    \n",
    "data_file = './data/NYC-2016-Summary.csv'\n",
    "bins =[x for x in range(0,125,10)]\n",
    "\n",
    "plt.hist(list_trips(data_file),bins)\n",
    "plt.title('Distribution of NYC Trip Durations')\n",
    "plt.xlabel('Duration (m)')\n",
    "\n",
    "plt.show()\n",
    "\n"
   ]
  },
  {
   "cell_type": "markdown",
   "metadata": {},
   "source": [
    "If you followed the use of the `.hist()` and `.show()` functions exactly like in the example, you're probably looking at a plot that's completely unexpected. The plot consists of one extremely tall bar on the left, maybe a very short second bar, and a whole lot of empty space in the center and right. Take a look at the duration values on the x-axis. This suggests that there are some highly infrequent outliers in the data. Instead of reprocessing the data, you will use additional parameters with the `.hist()` function to limit the range of data that is plotted. Documentation for the function can be found [[here]](https://matplotlib.org/devdocs/api/_as_gen/matplotlib.pyplot.hist.html#matplotlib.pyplot.hist).\n",
    "\n",
    "**Question 5**: Use the parameters of the `.hist()` function to plot the distribution of trip times for the Subscribers in your selected city. Do the same thing for only the Customers. Add limits to the plots so that only trips of duration less than 75 minutes are plotted. As a bonus, set the plots up so that bars are in five-minute wide intervals. For each group, where is the peak of each distribution? How would you describe the shape of each distribution?\n",
    "\n",
    "**Answer**:For NYC Customer Trip Durations, the peak is in 20-25 mins bin. for NYC Customer Trip Durations, the peak is in 5-10 mins bin. Both histogram are right skewed."
   ]
  },
  {
   "cell_type": "code",
   "execution_count": 14,
   "metadata": {},
   "outputs": [
    {
     "data": {
      "image/png": "[encoded data removed]",
      "text/plain": [
       "<matplotlib.figure.Figure at 0x7f870df37518>"
      ]
     },
     "metadata": {},
     "output_type": "display_data"
    },
    {
     "data": {
      "image/png": "[encoded data removed]",
      "text/plain": [
       "<matplotlib.figure.Figure at 0x7f870dd7d278>"
      ]
     },
     "metadata": {},
     "output_type": "display_data"
    }
   ],
   "source": [
    "\n",
    "substriber_data=[]\n",
    "customer_data=[]\n",
    "\n",
    "def list_trips(filename):\n",
    "    with open(filename, 'r') as f_in:\n",
    "        # set up csv reader object\n",
    "        reader = csv.DictReader(f_in)\n",
    "        \n",
    "        # tally up ride types\n",
    "        for row in reader:\n",
    "            if row['user_type'] == 'Subscriber':\n",
    "                substriber_data.append(float(row['duration']))\n",
    "            else:\n",
    "                customer_data.append(float(row['duration']))\n",
    "        return (substriber_data,customer_data)\n",
    "    \n",
    "data_file = './data/NYC-2016-Summary.csv'\n",
    "bins =[x for x in range(0,75,5)]\n",
    "\n",
    "plt.hist(list_trips(data_file)[0],bins)\n",
    "plt.title('Distribution of NYC Subscriber Trip Durations')\n",
    "plt.xlabel('Duration (m)')\n",
    "plt.show()\n",
    "\n",
    "plt.hist(list_trips(data_file)[1],bins)\n",
    "plt.title('Distribution of NYC Customer Trip Durations')\n",
    "plt.xlabel('Duration (m)')\n",
    "plt.show()\n",
    "\n"
   ]
  },
  {
   "cell_type": "markdown",
   "metadata": {
    "collapsed": true
   },
   "source": [
    "<a id='eda_continued'></a>\n",
    "## Performing Your Own Analysis\n",
    "\n",
    "So far, you've performed an initial exploration into the data available. You have compared the relative volume of trips made between three U.S. cities and the ratio of trips made by Subscribers and Customers. For one of these cities, you have investigated differences between Subscribers and Customers in terms of how long a typical trip lasts. Now it is your turn to continue the exploration in a direction that you choose. Here are a few suggestions for questions to explore:\n",
    "\n",
    "- How does ridership differ by month or season? Which month / season has the highest ridership? Does the ratio of Subscriber trips to Customer trips change depending on the month or season?\n",
    "- Is the pattern of ridership different on the weekends versus weekdays? On what days are Subscribers most likely to use the system? What about Customers? Does the average duration of rides change depending on the day of the week?\n",
    "- During what time of day is the system used the most? Is there a difference in usage patterns for Subscribers and Customers?\n",
    "\n",
    "If any of the questions you posed in your answer to question 1 align with the bullet points above, this is a good opportunity to investigate one of them. As part of your investigation, you will need to create a visualization. If you want to create something other than a histogram, then you might want to consult the [Pyplot documentation](https://matplotlib.org/devdocs/api/pyplot_summary.html). In particular, if you are plotting values across a categorical variable (e.g. city, user type), a bar chart will be useful. The [documentation page for `.bar()`](https://matplotlib.org/devdocs/api/_as_gen/matplotlib.pyplot.bar.html#matplotlib.pyplot.bar) includes links at the bottom of the page with examples for you to build off of for your own use.\n",
    "\n",
    "**Question 6**: Continue the investigation by exploring another question that could be answered by the data available. Document the question you want to explore below. Your investigation should involve at least two variables and should compare at least two groups. You should also use at least one visualization as part of your explorations.\n",
    "\n",
    "**Answer**:Ridership differ by season and city, and winter in three city has the fewest ridership. \n",
    "![image.png](attachment:image.png)\n",
    "And, the\"ratio Ratio of Subscriber trips to Customer trips bar chart\", winter has the highest ratio of Subscriber trips to Customer trips."
   ]
  },
  {
   "cell_type": "code",
   "execution_count": 15,
   "metadata": {},
   "outputs": [
    {
     "name": "stdout",
     "output_type": "stream",
     "text": [
      "Washington: Summer has the highest ridership, which is 21859, and Summer has the highest subscriber ridership, which is 16160\n",
      "NYC: Autumn has the highest ridership, which is 88366, and Autumn has the highest subscriber ridership, which is 78554\n",
      "Chicago: Summer has the highest ridership, which is 29890, and Summer has the highest subscriber ridership, which is 21198\n"
     ]
    },
    {
     "data": {
      "image/png": "[encoded data removed]",
      "text/plain": [
       "<matplotlib.figure.Figure at 0x7f870e564630>"
      ]
     },
     "metadata": {},
     "output_type": "display_data"
    },
    {
     "data": {
      "image/png": "[encoded data removed]",
      "text/plain": [
       "<matplotlib.figure.Figure at 0x7f870d713390>"
      ]
     },
     "metadata": {},
     "output_type": "display_data"
    }
   ],
   "source": [
    "\n",
    "import matplotlib.pyplot as plt\n",
    "import numpy as np\n",
    "\n",
    "def month_of_trips(filename):\n",
    "  \n",
    "    with open(filename, 'r') as f_in:\n",
    "        \n",
    "        reader = csv.DictReader(f_in)# set up csv reader object\n",
    "         \n",
    "        winter =[12,1,2]\n",
    "        spring =[3,4,5]\n",
    "        summer =[6,7,8]\n",
    "        autumn  = [9,10,11]\n",
    "        # initilization\n",
    "        #for subscriber\n",
    "        winter_sub = 0\n",
    "        spring_sub = 0\n",
    "        summer_sub = 0\n",
    "        autumn_sub = 0\n",
    "        #for coustemer\n",
    "        winter_cus = 0\n",
    "        spring_cus = 0\n",
    "        summer_cus = 0\n",
    "        autumn_cus = 0\n",
    "        \n",
    "        #convert the data \n",
    "        for row in reader:\n",
    "            if row['user_type'] == 'Subscriber':\n",
    "                if  int(row['month']) in  winter:\n",
    "                    winter_sub += 1\n",
    "                elif int(row['month']) in  spring:\n",
    "                    spring_sub += 1\n",
    "                elif int(row['month']) in  summer:\n",
    "                    summer_sub += 1\n",
    "                else:\n",
    "                    autumn_sub += 1\n",
    "            else: \n",
    "                if  int(row['month']) in  winter:\n",
    "                    winter_cus += 1\n",
    "                elif int(row['month']) in  spring:\n",
    "                    spring_cus += 1\n",
    "                elif int(row['month']) in  summer:\n",
    "                    summer_cus += 1\n",
    "                else:\n",
    "                    autumn_cus += 1\n",
    "        \n",
    "        subscriber_season ={\"Winter\": winter_sub,\"Spring\": spring_sub,\"Summer\": summer_sub, \"Autumn\":autumn_sub}\n",
    "        customer_season = {\"Winter\": winter_cus,\"Spring\": spring_cus,'Summer': summer_cus,'Autumn': autumn_cus} \n",
    "        n = {\"Winter\":winter_sub+winter_cus,\"Spring\": spring_sub+spring_cus,'Summer': summer_sub+summer_cus,'Autumn':autumn_sub+ autumn_cus}\n",
    "        \n",
    "        \n",
    "        return subscriber_season,customer_season,n\n",
    "\n",
    "data_file = ['./data/Washington-2016-Summary.csv','./data/NYC-2016-Summary.csv', './data/Chicago-2016-Summary.csv']\n",
    "for path in data_file:\n",
    "    city_name=path.split(\"/\")[2].split(\"-\")[0]\n",
    "    subscriber_season, customer_season,n = month_of_trips(path) \n",
    "    maximum =max(n, key=n.get) \n",
    "    maximum_sub = max(subscriber_season, key=subscriber_season.get)  \n",
    "    print(\"{}: {} has the highest ridership, which is {}, and {} has the highest subscriber ridership, which is {}\"\n",
    "      .format(city_name,maximum, n[maximum],maximum_sub, subscriber_season[maximum_sub]))\n",
    "\n",
    "\n",
    "x =  [ k for k in subscriber_season ]\n",
    "y = [v for v in subscriber_season.values()]\n",
    "x_pos =np.arange(len(x))\n",
    "\n",
    "x2 = [ k for k in customer_season]\n",
    "y2 = [v for v in customer_season.values()]\n",
    "x2_pos =[i for i in range(len(x2))]\n",
    "\n",
    "plt.bar(x_pos,y,   label ='Subscriber', color = 'r')\n",
    "plt.bar(x2_pos,y2, label ='Customer', color ='b')\n",
    "\n",
    "plt.title('Chicago Subscriber & Customer Rideship Bar Charts')\n",
    "plt.xlabel('Seasons')\n",
    "plt.ylabel('Number of Trips')\n",
    "plt.xticks(x_pos, (\"Winter\", \"Spring\",\"Summer\",\"Autumn\"))\n",
    "plt.show()\n",
    "\n",
    "ratio = [subscriber_season[\"Winter\"]/customer_season[\"Winter\"],\n",
    "subscriber_season[\"Spring\"]/customer_season[\"Spring\"],\n",
    "subscriber_season[\"Summer\"]/customer_season[\"Summer\"],\n",
    "subscriber_season[\"Autumn\"]/customer_season[\"Autumn\"]]\n",
    "\n",
    "\n",
    "x3 = [1,2,3,4]\n",
    "\n",
    "y3 = [v for v in ratio]\n",
    "plt.bar(x3,y3, label ='Ratio',color ='aqua')\n",
    "plt.xticks(x3, (\"Winter\", \"Spring\",\"Summer\",\"Autumn\"))\n",
    "plt.title('Ratio of Subscriber trips to Customer trips')\n",
    "\n",
    "\n",
    "plt.show()\n",
    "\n"
   ]
  },
  {
   "cell_type": "markdown",
   "metadata": {},
   "source": [
    "<a id='conclusions'></a>\n",
    "## Conclusions\n",
    "\n",
    "Congratulations on completing the project! This is only a sampling of the data analysis process: from generating questions, wrangling the data, and to exploring the data. Normally, at this point in the data analysis process, you might want to draw conclusions about the data by performing a statistical test or fitting the data to a model for making predictions. There are also a lot of potential analyses that could be performed on the data which are not possible with only the data provided. For example, detailed location data has not been investigated. Where are the most commonly used docks? What are the most common routes? As another example, weather has potential to have a large impact on daily ridership. How much is ridership impacted when there is rain or snow? Are subscribers or customers affected more by changes in weather?\n",
    "\n",
    "**Question 7**: Putting the bike share data aside, think of a topic or field of interest where you would like to be able to apply the techniques of data science. What would you like to be able to learn from your chosen subject?\n",
    "\n",
    "**Answer**: i would like to apply the similar techniques in human activity data. it will aloow to predict or know about what we are gooing to do when we are in some place or travelling,etc. I can create a chart to know what a person do the most and know about that person and provide services that fits most for him.\n"
   ]
  },
  {
   "cell_type": "code",
   "execution_count": 16,
   "metadata": {},
   "outputs": [
    {
     "data": {
      "text/plain": [
       "0"
      ]
     },
     "execution_count": 16,
     "metadata": {},
     "output_type": "execute_result"
    }
   ],
   "source": [
    "from subprocess import call\n",
    "call(['python', '-m', 'nbconvert', 'Bike_Share_Analysis.ipynb'])"
   ]
  },
  {
   "cell_type": "code",
   "execution_count": null,
   "metadata": {},
   "outputs": [],
   "source": []
  }
 ],
 "metadata": {
  "anaconda-cloud": {},
  "kernelspec": {
   "display_name": "Python 3",
   "language": "python",
   "name": "python3"
  },
  "language_info": {
   "codemirror_mode": {
    "name": "ipython",
    "version": 3
   },
   "file_extension": ".py",
   "mimetype": "text/x-python",
   "name": "python",
   "nbconvert_exporter": "python",
   "pygments_lexer": "ipython3",
   "version": "3.6.7"
  }
 },
 "nbformat": 4,
 "nbformat_minor": 1
}
